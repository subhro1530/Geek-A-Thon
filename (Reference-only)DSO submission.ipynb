{
 "cells": [
  {
   "cell_type": "code",
   "execution_count": null,
   "metadata": {},
   "outputs": [],
   "source": [
    "%load_ext nb_black\n",
    "\n",
    "import numpy as np\n",
    "import pandas as pd\n",
    "import seaborn as sns\n",
    "import matplotlib.pyplot as plt\n",
    "import io\n",
    "import math\n",
    "import requests\n",
    "\n",
    "from sklearn.linear_model import LogisticRegression\n",
    "from sklearn.metrics import log_loss\n",
    "from sklearn.model_selection import train_test_split\n",
    "from lightgbm import LGBMClassifier\n",
    "\n",
    "plt.style.use(\"ggplot\")"
   ]
  },
  {
   "cell_type": "code",
   "execution_count": 2,
   "metadata": {},
   "outputs": [
    {
     "data": {
      "application/javascript": "\n        setTimeout(function() {\n            var nbb_cell_id = 2;\n            var nbb_formatted_code = \"# Define the competition scorer\\ndef competition_scorer(y_true, y_pred):\\n    return log_loss(y_true, y_pred, sample_weight=10 ** y_true)\";\n            var nbb_cells = Jupyter.notebook.get_cells();\n            for (var i = 0; i < nbb_cells.length; ++i) {\n                if (nbb_cells[i].input_prompt_number == nbb_cell_id) {\n                    nbb_cells[i].set_text(nbb_formatted_code);\n                    break;\n                }\n            }\n        }, 500);\n        ",
      "text/plain": [
       "<IPython.core.display.Javascript object>"
      ]
     },
     "metadata": {},
     "output_type": "display_data"
    }
   ],
   "source": [
    "# Define the competition scorer\n",
    "def competition_scorer(y_true, y_pred):\n",
    "    return log_loss(y_true, y_pred, sample_weight=10 ** y_true)"
   ]
  },
  {
   "cell_type": "markdown",
   "metadata": {},
   "source": [
    "# 1- Information about the challenge\n",
    "\n",
    "In this challenge, the `requests` dataset contains information about the requests made by group of individuals (or family) to the french emergency housing public service. A sample of the `requests` dataset corresponds to a unique request.\n",
    "\n",
    "The goal is to predict the categorical variable `granted_number_of_nights` which represents the number of nights of emergency housing granted to a group. You can train your model on the `train_requests`, the predictions should be made for requests listed in the `test_requests` dataset.\n",
    "\n",
    "The evaluation metric is given by the `competition_scorer` defined above. It corresponds to a weighted log-loss with weights 1, 10, 100, or 1000 if the `granted_number_of_nights` takes the value 0, 1, 2, or 3 respectively. Thus beware that you will be penalized harder for classification mistakes made on the higher labels.\n",
    "\n",
    "Good luck!"
   ]
  },
  {
   "cell_type": "markdown",
   "metadata": {},
   "source": [
    "# 2- Load the datasets"
   ]
  },
  {
   "cell_type": "code",
   "execution_count": null,
   "metadata": {},
   "outputs": [],
   "source": [
    "# Train sample\n",
    "requests_train = pd.read_csv(\n",
    "    \"data/train_requests.csv\", sep=\",\", low_memory=False, error_bad_lines=False\n",
    ")\n",
    "\n",
    "# Test sample\n",
    "requests_test = pd.read_csv(\n",
    "    \"data/test_requests.csv\", sep=\",\", low_memory=False, error_bad_lines=False\n",
    ")"
   ]
  },
  {
   "cell_type": "code",
   "execution_count": 4,
   "metadata": {},
   "outputs": [
    {
     "data": {
      "application/javascript": "\n        setTimeout(function() {\n            var nbb_cell_id = 4;\n            var nbb_formatted_code = \"# Train sample\\nindividuals_train = pd.read_csv(\\n    \\\"data/train_individuals.csv\\\", sep=\\\",\\\", low_memory=False, error_bad_lines=False\\n)\\n\\n# Test sample\\nindividuals_test = pd.read_csv(\\n    \\\"data/test_individuals.csv\\\", sep=\\\",\\\", low_memory=False, error_bad_lines=False\\n)\";\n            var nbb_cells = Jupyter.notebook.get_cells();\n            for (var i = 0; i < nbb_cells.length; ++i) {\n                if (nbb_cells[i].input_prompt_number == nbb_cell_id) {\n                    nbb_cells[i].set_text(nbb_formatted_code);\n                    break;\n                }\n            }\n        }, 500);\n        ",
      "text/plain": [
       "<IPython.core.display.Javascript object>"
      ]
     },
     "metadata": {},
     "output_type": "display_data"
    }
   ],
   "source": [
    "# Train sample\n",
    "individuals_train = pd.read_csv('data/train_individuals.csv', sep=',', low_memory=False, error_bad_lines=False)\n",
    "\n",
    "# Test sample\n",
    "individuals_test = pd.read_csv('data/test_individuals.csv', sep=',', low_memory=False, error_bad_lines=False)"
   ]
  },
  {
   "cell_type": "code",
   "execution_count": 5,
   "metadata": {},
   "outputs": [
    {
     "data": {
      "application/javascript": "\n        setTimeout(function() {\n            var nbb_cell_id = 5;\n            var nbb_formatted_code = \"train_data = requests_train.merge(\\n    individuals_train.groupby(\\\"request_id\\\").mean(),\\n    left_on=\\\"request_id\\\",\\n    right_index=True,\\n)\\ntest_data = requests_test.merge(\\n    individuals_test.groupby(\\\"request_id\\\").mean(),\\n    left_on=\\\"request_id\\\",\\n    right_index=True,\\n)\";\n            var nbb_cells = Jupyter.notebook.get_cells();\n            for (var i = 0; i < nbb_cells.length; ++i) {\n                if (nbb_cells[i].input_prompt_number == nbb_cell_id) {\n                    nbb_cells[i].set_text(nbb_formatted_code);\n                    break;\n                }\n            }\n        }, 500);\n        ",
      "text/plain": [
       "<IPython.core.display.Javascript object>"
      ]
     },
     "metadata": {},
     "output_type": "display_data"
    }
   ],
   "source": [
    "train_data = requests_train.merge(\n",
    "    individuals_train.groupby(\"request_id\").mean(),\n",
    "    left_on=\"request_id\",\n",
    "    right_index=True,\n",
    ")\n",
    "test_data = requests_test.merge(\n",
    "    individuals_test.groupby(\"request_id\").mean(),\n",
    "    left_on=\"request_id\",\n",
    "    right_index=True,\n",
    ")"
   ]
  },
  {
   "cell_type": "code",
   "execution_count": 6,
   "metadata": {},
   "outputs": [
    {
     "data": {
      "text/html": [
       "<div>\n",
       "<style scoped>\n",
       "    .dataframe tbody tr th:only-of-type {\n",
       "        vertical-align: middle;\n",
       "    }\n",
       "\n",
       "    .dataframe tbody tr th {\n",
       "        vertical-align: top;\n",
       "    }\n",
       "\n",
       "    .dataframe thead th {\n",
       "        text-align: right;\n",
       "    }\n",
       "</style>\n",
       "<table border=\"1\" class=\"dataframe\">\n",
       "  <thead>\n",
       "    <tr style=\"text-align: right;\">\n",
       "      <th></th>\n",
       "      <th>request_id</th>\n",
       "      <th>animal_presence</th>\n",
       "      <th>answer_creation_date</th>\n",
       "      <th>child_situation</th>\n",
       "      <th>child_to_come</th>\n",
       "      <th>district</th>\n",
       "      <th>granted_number_of_nights</th>\n",
       "      <th>group_composition_id</th>\n",
       "      <th>group_composition_label</th>\n",
       "      <th>group_creation_date</th>\n",
       "      <th>...</th>\n",
       "      <th>requester_type</th>\n",
       "      <th>social_situation_id</th>\n",
       "      <th>town</th>\n",
       "      <th>victim_of_violence</th>\n",
       "      <th>victim_of_violence_type</th>\n",
       "      <th>housing_situation_2_id</th>\n",
       "      <th>birth_month</th>\n",
       "      <th>birth_year</th>\n",
       "      <th>individual_role_2_id</th>\n",
       "      <th>marital_status_id</th>\n",
       "    </tr>\n",
       "  </thead>\n",
       "  <tbody>\n",
       "    <tr>\n",
       "      <th>0</th>\n",
       "      <td>130667d2964de43c511d0ead7ac66b33</td>\n",
       "      <td>f</td>\n",
       "      <td>2019-02-11 22:30:00</td>\n",
       "      <td>-1</td>\n",
       "      <td>NaN</td>\n",
       "      <td>85</td>\n",
       "      <td>1</td>\n",
       "      <td>10</td>\n",
       "      <td>man alone</td>\n",
       "      <td>2018-05-03 12:10:40.416</td>\n",
       "      <td>...</td>\n",
       "      <td>third party</td>\n",
       "      <td>9a84febc47fedaf2c81d7c755e9edc85</td>\n",
       "      <td>NaN</td>\n",
       "      <td>f</td>\n",
       "      <td>NaN</td>\n",
       "      <td>20.0</td>\n",
       "      <td>5.0</td>\n",
       "      <td>1977.0</td>\n",
       "      <td>30.0</td>\n",
       "      <td>10.0</td>\n",
       "    </tr>\n",
       "    <tr>\n",
       "      <th>1</th>\n",
       "      <td>b1cd62fcf24eebb0f685d5eaf55317a8</td>\n",
       "      <td>f</td>\n",
       "      <td>2019-02-12 09:00:00</td>\n",
       "      <td>-1</td>\n",
       "      <td>NaN</td>\n",
       "      <td>85</td>\n",
       "      <td>1</td>\n",
       "      <td>10</td>\n",
       "      <td>man alone</td>\n",
       "      <td>2019-03-07 12:11:08.545</td>\n",
       "      <td>...</td>\n",
       "      <td>user</td>\n",
       "      <td>11f64f0547e855c5c59329b9edc63063</td>\n",
       "      <td>NaN</td>\n",
       "      <td>f</td>\n",
       "      <td>NaN</td>\n",
       "      <td>20.0</td>\n",
       "      <td>5.0</td>\n",
       "      <td>1980.0</td>\n",
       "      <td>30.0</td>\n",
       "      <td>-1.0</td>\n",
       "    </tr>\n",
       "    <tr>\n",
       "      <th>2</th>\n",
       "      <td>12cc0a18890bd4959fe42df3ae58838e</td>\n",
       "      <td>f</td>\n",
       "      <td>2019-02-01 21:00:00</td>\n",
       "      <td>-1</td>\n",
       "      <td>NaN</td>\n",
       "      <td>59</td>\n",
       "      <td>1</td>\n",
       "      <td>80</td>\n",
       "      <td>isolated child/underage</td>\n",
       "      <td>2019-03-13 12:54:15.887</td>\n",
       "      <td>...</td>\n",
       "      <td>user</td>\n",
       "      <td>898ab2883f410f4c6fb042ef16329fbb</td>\n",
       "      <td>NaN</td>\n",
       "      <td>f</td>\n",
       "      <td>NaN</td>\n",
       "      <td>20.0</td>\n",
       "      <td>1.0</td>\n",
       "      <td>2003.0</td>\n",
       "      <td>10.0</td>\n",
       "      <td>-1.0</td>\n",
       "    </tr>\n",
       "    <tr>\n",
       "      <th>3</th>\n",
       "      <td>ae2d5b4dc181d29e430132f145da1556</td>\n",
       "      <td>f</td>\n",
       "      <td>2019-02-25 15:12:05.037</td>\n",
       "      <td>-1</td>\n",
       "      <td>NaN</td>\n",
       "      <td>50</td>\n",
       "      <td>2</td>\n",
       "      <td>20</td>\n",
       "      <td>woman alone</td>\n",
       "      <td>2018-10-09 14:37:29.773</td>\n",
       "      <td>...</td>\n",
       "      <td>user</td>\n",
       "      <td>3998c8e890ddc980527dd1af45dfa672</td>\n",
       "      <td>NaN</td>\n",
       "      <td>t</td>\n",
       "      <td>woman</td>\n",
       "      <td>20.0</td>\n",
       "      <td>7.0</td>\n",
       "      <td>1986.0</td>\n",
       "      <td>30.0</td>\n",
       "      <td>-1.0</td>\n",
       "    </tr>\n",
       "    <tr>\n",
       "      <th>4</th>\n",
       "      <td>d13a17ce36c832514fda2464e11c4a9f</td>\n",
       "      <td>f</td>\n",
       "      <td>2019-02-20 09:59:20.603</td>\n",
       "      <td>-1</td>\n",
       "      <td>NaN</td>\n",
       "      <td>93</td>\n",
       "      <td>2</td>\n",
       "      <td>60</td>\n",
       "      <td>group with child(ren)</td>\n",
       "      <td>2018-10-02 10:47:36.931</td>\n",
       "      <td>...</td>\n",
       "      <td>user</td>\n",
       "      <td>74a10d96eae43586bc3c46e89719b821</td>\n",
       "      <td>NaN</td>\n",
       "      <td>f</td>\n",
       "      <td>NaN</td>\n",
       "      <td>35.0</td>\n",
       "      <td>7.0</td>\n",
       "      <td>1987.0</td>\n",
       "      <td>24.0</td>\n",
       "      <td>-1.0</td>\n",
       "    </tr>\n",
       "  </tbody>\n",
       "</table>\n",
       "<p>5 rows × 29 columns</p>\n",
       "</div>"
      ],
      "text/plain": [
       "                         request_id animal_presence     answer_creation_date  \\\n",
       "0  130667d2964de43c511d0ead7ac66b33               f      2019-02-11 22:30:00   \n",
       "1  b1cd62fcf24eebb0f685d5eaf55317a8               f      2019-02-12 09:00:00   \n",
       "2  12cc0a18890bd4959fe42df3ae58838e               f      2019-02-01 21:00:00   \n",
       "3  ae2d5b4dc181d29e430132f145da1556               f  2019-02-25 15:12:05.037   \n",
       "4  d13a17ce36c832514fda2464e11c4a9f               f  2019-02-20 09:59:20.603   \n",
       "\n",
       "   child_situation child_to_come  district  granted_number_of_nights  \\\n",
       "0               -1           NaN        85                         1   \n",
       "1               -1           NaN        85                         1   \n",
       "2               -1           NaN        59                         1   \n",
       "3               -1           NaN        50                         2   \n",
       "4               -1           NaN        93                         2   \n",
       "\n",
       "   group_composition_id  group_composition_label      group_creation_date  \\\n",
       "0                    10                man alone  2018-05-03 12:10:40.416   \n",
       "1                    10                man alone  2019-03-07 12:11:08.545   \n",
       "2                    80  isolated child/underage  2019-03-13 12:54:15.887   \n",
       "3                    20              woman alone  2018-10-09 14:37:29.773   \n",
       "4                    60    group with child(ren)  2018-10-02 10:47:36.931   \n",
       "\n",
       "         ...        requester_type               social_situation_id town  \\\n",
       "0        ...           third party  9a84febc47fedaf2c81d7c755e9edc85  NaN   \n",
       "1        ...                  user  11f64f0547e855c5c59329b9edc63063  NaN   \n",
       "2        ...                  user  898ab2883f410f4c6fb042ef16329fbb  NaN   \n",
       "3        ...                  user  3998c8e890ddc980527dd1af45dfa672  NaN   \n",
       "4        ...                  user  74a10d96eae43586bc3c46e89719b821  NaN   \n",
       "\n",
       "   victim_of_violence victim_of_violence_type housing_situation_2_id  \\\n",
       "0                   f                     NaN                   20.0   \n",
       "1                   f                     NaN                   20.0   \n",
       "2                   f                     NaN                   20.0   \n",
       "3                   t                   woman                   20.0   \n",
       "4                   f                     NaN                   35.0   \n",
       "\n",
       "   birth_month birth_year individual_role_2_id marital_status_id  \n",
       "0          5.0     1977.0                 30.0              10.0  \n",
       "1          5.0     1980.0                 30.0              -1.0  \n",
       "2          1.0     2003.0                 10.0              -1.0  \n",
       "3          7.0     1986.0                 30.0              -1.0  \n",
       "4          7.0     1987.0                 24.0              -1.0  \n",
       "\n",
       "[5 rows x 29 columns]"
      ]
     },
     "execution_count": 6,
     "metadata": {},
     "output_type": "execute_result"
    },
    {
     "data": {
      "application/javascript": "\n        setTimeout(function() {\n            var nbb_cell_id = 6;\n            var nbb_formatted_code = \"train_data.head()\";\n            var nbb_cells = Jupyter.notebook.get_cells();\n            for (var i = 0; i < nbb_cells.length; ++i) {\n                if (nbb_cells[i].input_prompt_number == nbb_cell_id) {\n                    nbb_cells[i].set_text(nbb_formatted_code);\n                    break;\n                }\n            }\n        }, 500);\n        ",
      "text/plain": [
       "<IPython.core.display.Javascript object>"
      ]
     },
     "metadata": {},
     "output_type": "display_data"
    }
   ],
   "source": [
    "train_data.head()"
   ]
  },
  {
   "cell_type": "code",
   "execution_count": 7,
   "metadata": {},
   "outputs": [
    {
     "data": {
      "text/plain": [
       "Index(['child_situation', 'district', 'granted_number_of_nights',\n",
       "       'group_composition_id', 'housing_situation_id', 'number_of_underage'],\n",
       "      dtype='object')"
      ]
     },
     "execution_count": 7,
     "metadata": {},
     "output_type": "execute_result"
    },
    {
     "data": {
      "application/javascript": "\n        setTimeout(function() {\n            var nbb_cell_id = 7;\n            var nbb_formatted_code = \"requests_train.describe().columns\";\n            var nbb_cells = Jupyter.notebook.get_cells();\n            for (var i = 0; i < nbb_cells.length; ++i) {\n                if (nbb_cells[i].input_prompt_number == nbb_cell_id) {\n                    nbb_cells[i].set_text(nbb_formatted_code);\n                    break;\n                }\n            }\n        }, 500);\n        ",
      "text/plain": [
       "<IPython.core.display.Javascript object>"
      ]
     },
     "metadata": {},
     "output_type": "display_data"
    }
   ],
   "source": [
    "requests_train.describe().columns"
   ]
  },
  {
   "cell_type": "markdown",
   "metadata": {},
   "source": [
    "# 3-Feature engineering / selection"
   ]
  },
  {
   "cell_type": "code",
   "execution_count": 8,
   "metadata": {},
   "outputs": [
    {
     "data": {
      "application/javascript": "\n        setTimeout(function() {\n            var nbb_cell_id = 8;\n            var nbb_formatted_code = \"# selected columns for explanatory variable\\nnumerical = [\\\"child_situation\\\", \\\"number_of_underage\\\", \\\"birth_year\\\"]\\ncategorical = [\\n    \\\"animal_presence\\\",\\n    \\\"child_to_come\\\",\\n    \\\"district\\\",\\n    \\\"group_composition_id\\\",\\n    \\\"long_term_housing_request\\\",\\n    \\\"requester_type\\\",\\n    \\\"town\\\",\\n    \\\"victim_of_violence\\\",\\n    \\\"victim_of_violence_type\\\",\\n    \\\"housing_situation_id\\\",\\n    \\\"birth_month\\\",\\n    \\\"individual_role_2_id\\\",\\n    \\\"marital_status_id\\\",\\n]\\nfor i in categorical:\\n    train_data[i] = train_data[i].astype(\\\"category\\\")\\n    test_data[i] = test_data[i].astype(\\\"category\\\")\\nto_keep = numerical + categorical\\nX = train_data[to_keep]\\ny = train_data[\\\"granted_number_of_nights\\\"]\";\n            var nbb_cells = Jupyter.notebook.get_cells();\n            for (var i = 0; i < nbb_cells.length; ++i) {\n                if (nbb_cells[i].input_prompt_number == nbb_cell_id) {\n                    nbb_cells[i].set_text(nbb_formatted_code);\n                    break;\n                }\n            }\n        }, 500);\n        ",
      "text/plain": [
       "<IPython.core.display.Javascript object>"
      ]
     },
     "metadata": {},
     "output_type": "display_data"
    }
   ],
   "source": [
    "# selected columns for explanatory variable\n",
    "numerical = [\"child_situation\", \"number_of_underage\", \"birth_year\"]\n",
    "categorical = [\n",
    "    \"animal_presence\",\n",
    "    \"child_to_come\",\n",
    "    \"district\",\n",
    "    \"group_composition_id\",\n",
    "    \"long_term_housing_request\",\n",
    "    \"requester_type\",\n",
    "    \"town\",\n",
    "    \"victim_of_violence\",\n",
    "    \"victim_of_violence_type\",\n",
    "    \"housing_situation_id\",\n",
    "    \"birth_month\",\n",
    "    \"individual_role_2_id\",\n",
    "    \"marital_status_id\",\n",
    "]\n",
    "for i in categorical:\n",
    "    train_data[i] = train_data[i].astype(\"category\")\n",
    "    test_data[i] = test_data[i].astype(\"category\")\n",
    "to_keep = numerical + categorical\n",
    "X = train_data[to_keep]\n",
    "y = train_data[\"granted_number_of_nights\"]"
   ]
  },
  {
   "cell_type": "markdown",
   "metadata": {},
   "source": [
    "# 4-Model selection"
   ]
  },
  {
   "cell_type": "code",
   "execution_count": 9,
   "metadata": {},
   "outputs": [
    {
     "data": {
      "application/javascript": "\n        setTimeout(function() {\n            var nbb_cell_id = 9;\n            var nbb_formatted_code = \"# split between the train and the validation samples\\nX_train, X_val, y_train, y_val = train_test_split(X, y, test_size=0.33, random_state=37)\";\n            var nbb_cells = Jupyter.notebook.get_cells();\n            for (var i = 0; i < nbb_cells.length; ++i) {\n                if (nbb_cells[i].input_prompt_number == nbb_cell_id) {\n                    nbb_cells[i].set_text(nbb_formatted_code);\n                    break;\n                }\n            }\n        }, 500);\n        ",
      "text/plain": [
       "<IPython.core.display.Javascript object>"
      ]
     },
     "metadata": {},
     "output_type": "display_data"
    }
   ],
   "source": [
    "# split between the train and the validation samples\n",
    "X_train, X_val, y_train, y_val = train_test_split(X, y, test_size=0.33, random_state=37)"
   ]
  },
  {
   "cell_type": "code",
   "execution_count": 10,
   "metadata": {},
   "outputs": [
    {
     "data": {
      "application/javascript": "\n        setTimeout(function() {\n            var nbb_cell_id = 10;\n            var nbb_formatted_code = \"model = LGBMClassifier(n_estimators=1000, max_depth=10, learning_rate=0.01)\";\n            var nbb_cells = Jupyter.notebook.get_cells();\n            for (var i = 0; i < nbb_cells.length; ++i) {\n                if (nbb_cells[i].input_prompt_number == nbb_cell_id) {\n                    nbb_cells[i].set_text(nbb_formatted_code);\n                    break;\n                }\n            }\n        }, 500);\n        ",
      "text/plain": [
       "<IPython.core.display.Javascript object>"
      ]
     },
     "metadata": {},
     "output_type": "display_data"
    }
   ],
   "source": [
    "model = LGBMClassifier(n_estimators=1000, max_depth=10, learning_rate=.01)"
   ]
  },
  {
   "cell_type": "code",
   "execution_count": 11,
   "metadata": {},
   "outputs": [
    {
     "name": "stdout",
     "output_type": "stream",
     "text": [
      "Training until validation scores don't improve for 200 rounds.\n",
      "[50]\tvalid_0's multi_logloss: 1.00983\n",
      "[100]\tvalid_0's multi_logloss: 0.821312\n",
      "[150]\tvalid_0's multi_logloss: 0.718377\n",
      "[200]\tvalid_0's multi_logloss: 0.661103\n",
      "[250]\tvalid_0's multi_logloss: 0.629348\n",
      "[300]\tvalid_0's multi_logloss: 0.610812\n",
      "[350]\tvalid_0's multi_logloss: 0.600731\n",
      "[400]\tvalid_0's multi_logloss: 0.594404\n",
      "[450]\tvalid_0's multi_logloss: 0.591606\n",
      "[500]\tvalid_0's multi_logloss: 0.591107\n",
      "[550]\tvalid_0's multi_logloss: 0.592046\n",
      "[600]\tvalid_0's multi_logloss: 0.594317\n",
      "[650]\tvalid_0's multi_logloss: 0.597018\n",
      "Early stopping, best iteration is:\n",
      "[484]\tvalid_0's multi_logloss: 0.590859\n"
     ]
    },
    {
     "data": {
      "text/plain": [
       "LGBMClassifier(boosting_type='gbdt', class_weight=None, colsample_bytree=1.0,\n",
       "        importance_type='split', learning_rate=0.01, max_depth=10,\n",
       "        min_child_samples=20, min_child_weight=0.001, min_split_gain=0.0,\n",
       "        n_estimators=1000, n_jobs=-1, num_leaves=31, objective=None,\n",
       "        random_state=None, reg_alpha=0.0, reg_lambda=0.0, silent=True,\n",
       "        subsample=1.0, subsample_for_bin=200000, subsample_freq=0)"
      ]
     },
     "execution_count": 11,
     "metadata": {},
     "output_type": "execute_result"
    },
    {
     "data": {
      "application/javascript": "\n        setTimeout(function() {\n            var nbb_cell_id = 11;\n            var nbb_formatted_code = \"# fit the model\\nmodel.fit(\\n    X_train,\\n    y_train,\\n    eval_set=[(X_val, y_val)],\\n    early_stopping_rounds=200,\\n    sample_weight=10 ** y_train,  # Necessary to train the model well.\\n    verbose=50,\\n    eval_sample_weight=[\\n        10 ** y_val\\n    ],  # Necessary to get reliable validation loss for early stopping\\n)\";\n            var nbb_cells = Jupyter.notebook.get_cells();\n            for (var i = 0; i < nbb_cells.length; ++i) {\n                if (nbb_cells[i].input_prompt_number == nbb_cell_id) {\n                    nbb_cells[i].set_text(nbb_formatted_code);\n                    break;\n                }\n            }\n        }, 500);\n        ",
      "text/plain": [
       "<IPython.core.display.Javascript object>"
      ]
     },
     "metadata": {},
     "output_type": "display_data"
    }
   ],
   "source": [
    "# fit the model\n",
    "model.fit(X_train, y_train, eval_set=[(X_val, y_val)],\n",
    "          early_stopping_rounds=200,\n",
    "          sample_weight=10**y_train,  # Necessary to train the model well.\n",
    "          verbose=50,\n",
    "          eval_sample_weight=[10**y_val]  # Necessary to get reliable validation loss for early stopping\n",
    "         )"
   ]
  },
  {
   "cell_type": "code",
   "execution_count": 12,
   "metadata": {},
   "outputs": [
    {
     "data": {
      "text/plain": [
       "0.5908591787213787"
      ]
     },
     "execution_count": 12,
     "metadata": {},
     "output_type": "execute_result"
    },
    {
     "data": {
      "application/javascript": "\n        setTimeout(function() {\n            var nbb_cell_id = 12;\n            var nbb_formatted_code = \"# Evaluate the model with the competition scorer (validation set)\\n# Check it matches eval score from lgbm model\\ny_val_pred = model.predict_proba(X_val)\\ncompetition_scorer(y_val, y_val_pred)\";\n            var nbb_cells = Jupyter.notebook.get_cells();\n            for (var i = 0; i < nbb_cells.length; ++i) {\n                if (nbb_cells[i].input_prompt_number == nbb_cell_id) {\n                    nbb_cells[i].set_text(nbb_formatted_code);\n                    break;\n                }\n            }\n        }, 500);\n        ",
      "text/plain": [
       "<IPython.core.display.Javascript object>"
      ]
     },
     "metadata": {},
     "output_type": "display_data"
    }
   ],
   "source": [
    "# Evaluate the model with the competition scorer (validation set)\n",
    "# Check it matches eval score from lgbm model\n",
    "y_val_pred = model.predict_proba(X_val)\n",
    "competition_scorer(y_val, y_val_pred)"
   ]
  },
  {
   "cell_type": "markdown",
   "metadata": {},
   "source": [
    "# 5- Compute predictions on the test set "
   ]
  },
  {
   "cell_type": "code",
   "execution_count": 13,
   "metadata": {},
   "outputs": [
    {
     "data": {
      "application/javascript": "\n        setTimeout(function() {\n            var nbb_cell_id = 13;\n            var nbb_formatted_code = \"# use the model to predict on the test set.\\nX_test = test_data[to_keep]\\ny_pred = model.predict_proba(X_test)\";\n            var nbb_cells = Jupyter.notebook.get_cells();\n            for (var i = 0; i < nbb_cells.length; ++i) {\n                if (nbb_cells[i].input_prompt_number == nbb_cell_id) {\n                    nbb_cells[i].set_text(nbb_formatted_code);\n                    break;\n                }\n            }\n        }, 500);\n        ",
      "text/plain": [
       "<IPython.core.display.Javascript object>"
      ]
     },
     "metadata": {},
     "output_type": "display_data"
    }
   ],
   "source": [
    "# use the model to predict on the test set.\n",
    "X_test = test_data[to_keep]\n",
    "y_pred = model.predict_proba(X_test)"
   ]
  },
  {
   "cell_type": "code",
   "execution_count": 14,
   "metadata": {},
   "outputs": [
    {
     "data": {
      "text/plain": [
       "array([[0.01610912, 0.1635891 , 0.61385995, 0.20644183],\n",
       "       [0.09144336, 0.45075529, 0.43516109, 0.02264025],\n",
       "       [0.01683933, 0.12306728, 0.84428788, 0.01580551],\n",
       "       [0.22712627, 0.16944   , 0.05825342, 0.54518032]])"
      ]
     },
     "execution_count": 14,
     "metadata": {},
     "output_type": "execute_result"
    },
    {
     "data": {
      "application/javascript": "\n        setTimeout(function() {\n            var nbb_cell_id = 14;\n            var nbb_formatted_code = \"# overview of prediction probabilities for first four rows\\ny_pred[:4]\";\n            var nbb_cells = Jupyter.notebook.get_cells();\n            for (var i = 0; i < nbb_cells.length; ++i) {\n                if (nbb_cells[i].input_prompt_number == nbb_cell_id) {\n                    nbb_cells[i].set_text(nbb_formatted_code);\n                    break;\n                }\n            }\n        }, 500);\n        ",
      "text/plain": [
       "<IPython.core.display.Javascript object>"
      ]
     },
     "metadata": {},
     "output_type": "display_data"
    }
   ],
   "source": [
    "# overview of prediction probabilities for first four rows\n",
    "y_pred[:4]"
   ]
  },
  {
   "cell_type": "code",
   "execution_count": 15,
   "metadata": {},
   "outputs": [
    {
     "data": {
      "application/javascript": "\n        setTimeout(function() {\n            var nbb_cell_id = 15;\n            var nbb_formatted_code = \"predictions = pd.concat([requests_test[\\\"request_id\\\"], pd.DataFrame(y_pred)], axis=1)\";\n            var nbb_cells = Jupyter.notebook.get_cells();\n            for (var i = 0; i < nbb_cells.length; ++i) {\n                if (nbb_cells[i].input_prompt_number == nbb_cell_id) {\n                    nbb_cells[i].set_text(nbb_formatted_code);\n                    break;\n                }\n            }\n        }, 500);\n        ",
      "text/plain": [
       "<IPython.core.display.Javascript object>"
      ]
     },
     "metadata": {},
     "output_type": "display_data"
    }
   ],
   "source": [
    "predictions = pd.concat([requests_test['request_id'], pd.DataFrame(y_pred)], axis=1)"
   ]
  },
  {
   "cell_type": "markdown",
   "metadata": {},
   "source": [
    "# 6- Submit your predictions to the QScore platform"
   ]
  },
  {
   "cell_type": "code",
   "execution_count": 16,
   "metadata": {},
   "outputs": [
    {
     "data": {
      "application/javascript": "\n        setTimeout(function() {\n            var nbb_cell_id = 16;\n            var nbb_formatted_code = \"# Get your token from qscore:\\n# 1. Go to https://qscore.datascience-olympics.com/\\n# 2. Chose the competition Data Science Olympics 2019\\n# 3. In the left menu click 'Submissions'\\n# 4. Your token is in the 'Submit from your Python Notebook' tab\\n\\n\\ndef submit_prediction(df, sep=\\\",\\\", comment=\\\"\\\", compression=\\\"gzip\\\", **kwargs):\\n    TOKEN = \\\"\\\"\\n    URL = \\\"https://qscore.datascience-olympics.com/api/submissions\\\"\\n    df.to_csv(\\\"temporary.dat\\\", sep=sep, compression=compression, **kwargs)\\n    r = requests.post(\\n        URL,\\n        headers={\\\"Authorization\\\": \\\"Bearer {}\\\".format(TOKEN)},\\n        files={\\\"datafile\\\": open(\\\"temporary.dat\\\", \\\"rb\\\")},\\n        data={\\\"comment\\\": comment, \\\"compression\\\": compression},\\n    )\\n    if r.status_code == 429:\\n        raise Exception(\\n            \\\"Submissions are too close. Next submission is only allowed in {} seconds.\\\".format(\\n                int(math.ceil(int(r.headers[\\\"x-rate-limit-remaining\\\"]) / 1000.0))\\n            )\\n        )\\n    if r.status_code != 200:\\n        raise Exception(r.text)\";\n            var nbb_cells = Jupyter.notebook.get_cells();\n            for (var i = 0; i < nbb_cells.length; ++i) {\n                if (nbb_cells[i].input_prompt_number == nbb_cell_id) {\n                    nbb_cells[i].set_text(nbb_formatted_code);\n                    break;\n                }\n            }\n        }, 500);\n        ",
      "text/plain": [
       "<IPython.core.display.Javascript object>"
      ]
     },
     "metadata": {},
     "output_type": "display_data"
    }
   ],
   "source": [
    "# Get your token from qscore:\n",
    "# 1. Go to https://qscore.datascience-olympics.com/\n",
    "# 2. Chose the competition Data Science Olympics 2019\n",
    "# 3. In the left menu click 'Submissions'\n",
    "# 4. Your token is in the 'Submit from your Python Notebook' tab\n",
    "\n",
    "def submit_prediction(df, sep=',', comment='', compression='gzip', **kwargs):\n",
    "    TOKEN=''\n",
    "    URL='https://qscore.datascience-olympics.com/api/submissions'\n",
    "    df.to_csv('temporary.dat', sep=sep, compression=compression, **kwargs)\n",
    "    r = requests.post(URL, headers={'Authorization': 'Bearer {}'.format(TOKEN)},files={'datafile': open('temporary.dat', 'rb')},data={'comment':comment, 'compression': compression})\n",
    "    if r.status_code == 429:\n",
    "        raise Exception('Submissions are too close. Next submission is only allowed in {} seconds.'.format(int(math.ceil(int(r.headers['x-rate-limit-remaining']) / 1000.0))))\n",
    "    if r.status_code != 200:\n",
    "        raise Exception(r.text)"
   ]
  },
  {
   "cell_type": "code",
   "execution_count": 17,
   "metadata": {},
   "outputs": [
    {
     "data": {
      "application/javascript": "\n        setTimeout(function() {\n            var nbb_cell_id = 17;\n            var nbb_formatted_code = \"# submit_prediction(predictions, sep=',', index=False, comment='my submission')\";\n            var nbb_cells = Jupyter.notebook.get_cells();\n            for (var i = 0; i < nbb_cells.length; ++i) {\n                if (nbb_cells[i].input_prompt_number == nbb_cell_id) {\n                    nbb_cells[i].set_text(nbb_formatted_code);\n                    break;\n                }\n            }\n        }, 500);\n        ",
      "text/plain": [
       "<IPython.core.display.Javascript object>"
      ]
     },
     "metadata": {},
     "output_type": "display_data"
    }
   ],
   "source": [
    "#submit_prediction(predictions, sep=',', index=False, comment='my submission')"
   ]
  },
  {
   "cell_type": "markdown",
   "metadata": {},
   "source": [
    "# 7-Visualise / interpret predictions"
   ]
  },
  {
   "cell_type": "code",
   "execution_count": 18,
   "metadata": {},
   "outputs": [
    {
     "data": {
      "text/plain": [
       "array([[<matplotlib.axes._subplots.AxesSubplot object at 0x7f97a80edc18>,\n",
       "        <matplotlib.axes._subplots.AxesSubplot object at 0x7f97a80b6dd8>]],\n",
       "      dtype=object)"
      ]
     },
     "execution_count": 18,
     "metadata": {},
     "output_type": "execute_result"
    },
    {
     "data": {
      "image/png": "[encoded data removed]",
      "text/plain": [
       "<Figure size 864x576 with 2 Axes>"
      ]
     },
     "metadata": {
      "needs_background": "light"
     },
     "output_type": "display_data"
    },
    {
     "data": {
      "application/javascript": "\n        setTimeout(function() {\n            var nbb_cell_id = 18;\n            var nbb_formatted_code = \"pd.concat(\\n    [\\n        10 ** y_val,\\n        10\\n        ** pd.Series(y_val_pred.argmax(axis=1), index=y_val.index, name=\\\"predictions\\\"),\\n    ],\\n    axis=1,\\n).hist(figsize=(12, 8))\";\n            var nbb_cells = Jupyter.notebook.get_cells();\n            for (var i = 0; i < nbb_cells.length; ++i) {\n                if (nbb_cells[i].input_prompt_number == nbb_cell_id) {\n                    nbb_cells[i].set_text(nbb_formatted_code);\n                    break;\n                }\n            }\n        }, 500);\n        ",
      "text/plain": [
       "<IPython.core.display.Javascript object>"
      ]
     },
     "metadata": {},
     "output_type": "display_data"
    }
   ],
   "source": [
    "pd.concat(\n",
    "    [\n",
    "        10 ** y_val,\n",
    "        10\n",
    "        ** pd.Series(y_val_pred.argmax(axis=1), index=y_val.index, name=\"predictions\"),\n",
    "    ],\n",
    "    axis=1,\n",
    ").hist(figsize=(12, 8))"
   ]
  },
  {
   "cell_type": "code",
   "execution_count": 19,
   "metadata": {},
   "outputs": [
    {
     "data": {
      "text/plain": [
       "<matplotlib.axes._subplots.AxesSubplot at 0x7f97a80fa048>"
      ]
     },
     "execution_count": 19,
     "metadata": {},
     "output_type": "execute_result"
    },
    {
     "data": {
      "image/png": "[encoded data removed]",
      "text/plain": [
       "<Figure size 864x576 with 1 Axes>"
      ]
     },
     "metadata": {
      "needs_background": "light"
     },
     "output_type": "display_data"
    },
    {
     "data": {
      "application/javascript": "\n        setTimeout(function() {\n            var nbb_cell_id = 19;\n            var nbb_formatted_code = \"pd.Series(model.feature_importances_, index=X_train.columns).sort_values().plot(\\n    kind=\\\"barh\\\", figsize=(12, 8)\\n)\";\n            var nbb_cells = Jupyter.notebook.get_cells();\n            for (var i = 0; i < nbb_cells.length; ++i) {\n                if (nbb_cells[i].input_prompt_number == nbb_cell_id) {\n                    nbb_cells[i].set_text(nbb_formatted_code);\n                    break;\n                }\n            }\n        }, 500);\n        ",
      "text/plain": [
       "<IPython.core.display.Javascript object>"
      ]
     },
     "metadata": {},
     "output_type": "display_data"
    }
   ],
   "source": [
    "pd.Series(model.feature_importances_, index=X_train.columns).sort_values().plot(\n",
    "    kind=\"barh\", figsize=(12, 8)\n",
    ")"
   ]
  },
  {
   "cell_type": "code",
   "execution_count": null,
   "metadata": {},
   "outputs": [],
   "source": []
  }
 ],
 "metadata": {
  "kernelspec": {
   "display_name": "Python 3",
   "language": "python",
   "name": "python3"
  },
  "language_info": {
   "codemirror_mode": {
    "name": "ipython",
    "version": 3
   },
   "file_extension": ".py",
   "mimetype": "text/x-python",
   "name": "python",
   "nbconvert_exporter": "python",
   "pygments_lexer": "ipython3",
   "version": "3.10.7"
  }
 },
 "nbformat": 4,
 "nbformat_minor": 2
}
